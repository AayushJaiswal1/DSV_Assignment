{
  "nbformat": 4,
  "nbformat_minor": 0,
  "metadata": {
    "colab": {
      "provenance": [],
      "authorship_tag": "ABX9TyOkrWOIjzdaUog+2XnrU93j",
      "include_colab_link": true
    },
    "kernelspec": {
      "name": "python3",
      "display_name": "Python 3"
    },
    "language_info": {
      "name": "python"
    }
  },
  "cells": [
    {
      "cell_type": "markdown",
      "metadata": {
        "id": "view-in-github",
        "colab_type": "text"
      },
      "source": [
        "<a href=\"https://colab.research.google.com/github/AayushJaiswal1/DSV_Assignment/blob/main/Linear_Regression.ipynb\" target=\"_parent\"><img src=\"https://colab.research.google.com/assets/colab-badge.svg\" alt=\"Open In Colab\"/></a>"
      ]
    },
    {
      "cell_type": "code",
      "execution_count": 11,
      "metadata": {
        "colab": {
          "base_uri": "https://localhost:8080/"
        },
        "id": "9qEIly6sXIPN",
        "outputId": "1ff727f6-771e-4433-fd4d-91a428cc3fa2"
      },
      "outputs": [
        {
          "output_type": "stream",
          "name": "stdout",
          "text": [
            "Mean Squared Error (MSE): 3878977.4543393794\n",
            "Enter years of experience to predict salary: 7\n",
            "\n",
            "Predicted Salary for 7.0 years of experience: $76,281.37\n",
            "\n",
            "Mean Squared Error (MSE) on the test set: 3878977.4543393794\n",
            "\n",
            "Model Coefficients:\n",
            "Intercept: 16790.094775859907\n",
            "Slope (Coefficient for YearsExperience): 8498.75333861099\n",
            "\n",
            "\n",
            "\n"
          ]
        }
      ],
      "source": [
        "import pandas as pd\n",
        "from sklearn.model_selection import train_test_split\n",
        "from sklearn.linear_model import LinearRegression\n",
        "from sklearn.metrics import mean_squared_error\n",
        "\n",
        "# Load dataset\n",
        "data = pd.read_csv('Salary_Data_New.csv')\n",
        "\n",
        "# Define features and target variable\n",
        "X = data[['YearsExperience']]\n",
        "y = data['Salary']\n",
        "\n",
        "# Split into training and testing sets\n",
        "X_train, X_test, y_train, y_test = train_test_split(X, y, test_size=0.2, random_state=42)\n",
        "\n",
        "# Initialize and train the linear regression model\n",
        "model = LinearRegression()\n",
        "model.fit(X_train, y_train)\n",
        "\n",
        "# Predict on the test set\n",
        "y_pred = model.predict(X_test)\n",
        "\n",
        "# Calculate Mean Squared Error\n",
        "mse = mean_squared_error(y_test, y_pred)\n",
        "print(\"Mean Squared Error (MSE):\", mse)\n",
        "\n",
        "# Predict Salary for User Input\n",
        "try:\n",
        "    user_years_experience = float(input(\"Enter years of experience to predict salary: \"))\n",
        "    # Pass the value as a DataFrame to match the trained model's structure\n",
        "    user_salary_prediction = model.predict(pd.DataFrame([[user_years_experience]], columns=[\"YearsExperience\"]))\n",
        "    print(f\"\\nPredicted Salary for {user_years_experience} years of experience: ${user_salary_prediction[0]:,.2f}\\n\")\n",
        "except ValueError:\n",
        "    print(\"\\nInvalid input. Please enter a numeric value for years of experience.\\n\")\n",
        "\n",
        "\n",
        "\n",
        "# Display model evaluation results\n",
        "print(\"Mean Squared Error (MSE) on the test set:\", mse)\n",
        "print(\"\\nModel Coefficients:\")\n",
        "print(\"Intercept:\", model.intercept_)\n",
        "print(\"Slope (Coefficient for YearsExperience):\", model.coef_[0])\n",
        "print(\"\\n\\n\")\n"
      ]
    },
    {
      "cell_type": "code",
      "source": [],
      "metadata": {
        "id": "rTbvVipaX9LM"
      },
      "execution_count": 5,
      "outputs": []
    }
  ]
}